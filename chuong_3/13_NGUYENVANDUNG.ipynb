{
 "cells": [
  {
   "cell_type": "code",
   "execution_count": 1,
   "id": "a96a0ae0",
   "metadata": {},
   "outputs": [],
   "source": [
    "import pandas as pd\n",
    "import scipy.stats as stats\n",
    "import sqlite3\n",
    "import math"
   ]
  },
  {
   "cell_type": "code",
   "execution_count": 2,
   "id": "cd70ab0f",
   "metadata": {},
   "outputs": [
    {
     "name": "stdout",
     "output_type": "stream",
     "text": [
      "Chi-square Statistic: 0.826439691310499\n",
      "P-value: 0.9913459315666546\n",
      "Degrees of Freedom: 6\n",
      "Expected Frequencies:\n",
      "Model         A         B         C\n",
      "Day                                \n",
      "Day 1  7.953488  8.511628  7.534884\n",
      "Day 2  7.622093  8.156977  7.220930\n",
      "Day 3  6.959302  7.447674  6.593023\n",
      "Day 4  5.965116  6.383721  5.651163\n",
      "Không có đủ bằng chứng để khẳng định sự khác biệt giữa các mẫu xe (chấp nhận H0).\n"
     ]
    }
   ],
   "source": [
    "# Kết nối SQLite \n",
    "conn = sqlite3.connect(\":memory:\")\n",
    "cursor = conn.cursor()\n",
    "\n",
    "# Tạo bảng dữ liệu\n",
    "cursor.execute(\"\"\"\n",
    "    CREATE TABLE car_tests (\n",
    "        Day TEXT,\n",
    "        Model TEXT,\n",
    "        Score REAL\n",
    "    )\n",
    "\"\"\")\n",
    "\n",
    "# Dữ liệu thử nghiệm\n",
    "data = [\n",
    "    (\"Day 1\", \"A\", 8), (\"Day 1\", \"B\", 9), (\"Day 1\", \"C\", 7),\n",
    "    (\"Day 2\", \"A\", 7.5), (\"Day 2\", \"B\", 8.5), (\"Day 2\", \"C\", 7),\n",
    "    (\"Day 3\", \"A\", 6), (\"Day 3\", \"B\", 7), (\"Day 3\", \"C\", 8),\n",
    "    (\"Day 4\", \"A\", 7), (\"Day 4\", \"B\", 6), (\"Day 4\", \"C\", 5)\n",
    "]\n",
    "\n",
    "# Chèn dữ liệu vào bảng\n",
    "cursor.executemany(\"INSERT INTO car_tests VALUES (?, ?, ?)\", data)\n",
    "conn.commit()\n",
    "# Truy vấn dữ liệu từ SQLite\n",
    "query = \"SELECT Day, Model, Score FROM car_tests\"\n",
    "df = pd.read_sql_query(query, conn)\n",
    "\n",
    "# Chuyển dữ liệu thành bảng tần suất \n",
    "table = pd.pivot_table(df, values=\"Score\", index=\"Day\", columns=\"Model\", aggfunc=\"sum\")\n",
    "# Kiểm định Chi-square\n",
    "chi2_stat, p_value, dof, expected = stats.chi2_contingency(table)\n",
    "\n",
    "# In kết quả\n",
    "print(f\"Chi-square Statistic: {chi2_stat}\")\n",
    "print(f\"P-value: {p_value}\")\n",
    "print(f\"Degrees of Freedom: {dof}\")\n",
    "print(\"Expected Frequencies:\")\n",
    "print(pd.DataFrame(expected, index=table.index, columns=table.columns))\n",
    "# Kiểm tra kết quả\n",
    "alpha = 0.05\n",
    "if p_value < alpha:\n",
    "    print(\"Có sự khác biệt đáng kể giữa các mẫu xe (bác bỏ H0).\")\n",
    "else:\n",
    "    print(\"Không có đủ bằng chứng để khẳng định sự khác biệt giữa các mẫu xe (chấp nhận H0).\")\n",
    "\n",
    "# Đóng kết nối SQLite\n",
    "conn.close()"
   ]
  }
 ],
 "metadata": {
  "kernelspec": {
   "display_name": "base",
   "language": "python",
   "name": "python3"
  },
  "language_info": {
   "codemirror_mode": {
    "name": "ipython",
    "version": 3
   },
   "file_extension": ".py",
   "mimetype": "text/x-python",
   "name": "python",
   "nbconvert_exporter": "python",
   "pygments_lexer": "ipython3",
   "version": "3.11.5"
  }
 },
 "nbformat": 4,
 "nbformat_minor": 5
}
